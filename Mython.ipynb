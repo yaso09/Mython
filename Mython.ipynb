{
  "nbformat": 4,
  "nbformat_minor": 0,
  "metadata": {
    "colab": {
      "provenance": [],
      "authorship_tag": "ABX9TyMBWnaGOdjALSiAEq1PIa4G",
      "include_colab_link": true
    },
    "kernelspec": {
      "name": "python3",
      "display_name": "Python 3"
    },
    "language_info": {
      "name": "python"
    }
  },
  "cells": [
    {
      "cell_type": "markdown",
      "metadata": {
        "id": "view-in-github",
        "colab_type": "text"
      },
      "source": [
        "<a href=\"https://colab.research.google.com/github/yaso09/Mython/blob/main/Mython.ipynb\" target=\"_parent\"><img src=\"https://colab.research.google.com/assets/colab-badge.svg\" alt=\"Open In Colab\"/></a>"
      ]
    },
    {
      "cell_type": "markdown",
      "source": [
        "# Mython\n",
        "Matematiksel söz dizimi ile Python kodlaýın.\n",
        "\n",
        "## Çalışmak\n",
        "Çalışmak için ilk önce Github üzerinden kaynak kodunu indirelim."
      ],
      "metadata": {
        "id": "IwG6vOFXe1Zt"
      }
    },
    {
      "cell_type": "code",
      "source": [
        "!git clone https://github.com/yaso09/mython.git\n",
        "%cd mython"
      ],
      "metadata": {
        "id": "VtuFYLguqecj",
        "outputId": "48305359-217c-48ab-ee12-f01a34733049",
        "colab": {
          "base_uri": "https://localhost:8080/"
        }
      },
      "execution_count": null,
      "outputs": [
        {
          "output_type": "stream",
          "name": "stdout",
          "text": [
            "Cloning into 'mython'...\n",
            "remote: Enumerating objects: 22, done.\u001b[K\n",
            "remote: Counting objects: 100% (22/22), done.\u001b[K\n",
            "remote: Compressing objects: 100% (17/17), done.\u001b[K\n",
            "remote: Total 22 (delta 8), reused 15 (delta 4), pack-reused 0\u001b[K\n",
            "Receiving objects: 100% (22/22), 15.91 KiB | 3.18 MiB/s, done.\n",
            "Resolving deltas: 100% (8/8), done.\n",
            "/content/mython/mython/mython\n",
            "build  LICENSE\tMython.ipynb  README.md  src\n"
          ]
        }
      ]
    },
    {
      "cell_type": "markdown",
      "source": [
        "Normalde `build` dosyası ile dili derleyebiliriz. Ancak Google Colab üzerindeyken sadece Python kodunu çalıştırmamız yeterli olacaktır."
      ],
      "metadata": {
        "id": "dPT4RRt9rP8d"
      }
    },
    {
      "cell_type": "code",
      "source": [
        "!python src/main.py"
      ],
      "metadata": {
        "id": "qdBtQpscshBz",
        "outputId": "e2b37a71-1d16-459e-a21d-631ee8f24bd4",
        "colab": {
          "base_uri": "https://localhost:8080/"
        }
      },
      "execution_count": null,
      "outputs": [
        {
          "output_type": "stream",
          "name": "stdout",
          "text": [
            "Error:\tFile not specified\n"
          ]
        }
      ]
    },
    {
      "cell_type": "markdown",
      "source": [
        "Dosyayı çalıştırdığınız zaman `Error: File not specified` hatasını göreceksiniz. Bu hata çalıştırılacak dosyanın yolunu girmememizden kaynaklanıyor. Kod örneklerini yazmak için yeni bir dosya oluşturalım."
      ],
      "metadata": {
        "id": "XgVVjuO2tCiK"
      }
    },
    {
      "cell_type": "code",
      "source": [
        "!touch test.math\n",
        "!ls"
      ],
      "metadata": {
        "id": "YhAdxcddtq_b",
        "outputId": "4dc86e6e-51cc-4f60-c572-a8252b493a29",
        "colab": {
          "base_uri": "https://localhost:8080/"
        }
      },
      "execution_count": null,
      "outputs": [
        {
          "output_type": "stream",
          "name": "stdout",
          "text": [
            "build  LICENSE\tMython.ipynb  README.md  src  test.math\n"
          ]
        }
      ]
    },
    {
      "cell_type": "markdown",
      "source": [
        "Fantastik görünmesi için dosya uzantısı olarak `.math` kullanıyorum. Zorunlu değil."
      ],
      "metadata": {
        "id": "Y9qJYh8qt3PK"
      }
    }
  ]
}